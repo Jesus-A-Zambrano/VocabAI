{
 "cells": [
  {
   "cell_type": "code",
   "execution_count": 72,
   "id": "58d3c8cc",
   "metadata": {},
   "outputs": [],
   "source": [
    "import tensorflow as tf\n",
    "from tensorflow.keras.models import load_model\n",
    "import numpy as np\n",
    "\n",
    "def predict_recall_probability(model,user_word_data):\n",
    "    \"\"\"\n",
    "    Predice la probabilidad de que un usuario recuerde una palabra\n",
    "    basado en sus interacciones previas.\n",
    "    Args:\n",
    "    user_word_data: Dict con los datos de interacción usuario-palabra\n",
    "    Returns:\n",
    "    Probabilidad (0-1) de que el usuario recuerde la palabra\n",
    "    \"\"\"\n",
    "    # Extraer características\n",
    "    features = [\n",
    "    user_word_data[\"times_reviewed\"],\n",
    "    user_word_data[\"times_correct\"],\n",
    "    user_word_data[\"delta\"],\n",
    "    ]\n",
    "    # Convertir a array y dar forma adecuada\n",
    "    features_array = np.array(features).reshape(1, -1)\n",
    "    # Realizar predicción\n",
    "    probability = model.predict(features_array)[0][0]\n",
    "    return float(probability)"
   ]
  },
  {
   "cell_type": "code",
   "execution_count": 73,
   "id": "78b49dd7",
   "metadata": {},
   "outputs": [],
   "source": [
    "# Estructura de datos de entrada\n",
    "\n",
    "user_word_interaction = {\n",
    " \"user_id\": \"user123\",\n",
    " \"word_id\": \"word456\",\n",
    " \"features\": {\n",
    " \"times_reviewed\": 1, # Número de veces que ha visto la palabra\n",
    " \"times_correct\": 1, # Veces que respondió correctamente\n",
    " \"delta\": 1, # Días desde la última revisión\n",
    " }\n",
    "}\n",
    "#dias 24 48 72 96 120\n",
    "model = load_model('vocabulary_progress_model.keras') "
   ]
  },
  {
   "cell_type": "markdown",
   "id": "123b0306",
   "metadata": {},
   "source": [
    "# Variación de errores"
   ]
  },
  {
   "cell_type": "code",
   "execution_count": 74,
   "id": "9bac85d0",
   "metadata": {},
   "outputs": [
    {
     "name": "stdout",
     "output_type": "stream",
     "text": [
      "\u001b[1m1/1\u001b[0m \u001b[32m━━━━━━━━━━━━━━━━━━━━\u001b[0m\u001b[37m\u001b[0m \u001b[1m0s\u001b[0m 43ms/step\n",
      "I: 1 A: 1 Prob: 1.0\n",
      "\u001b[1m1/1\u001b[0m \u001b[32m━━━━━━━━━━━━━━━━━━━━\u001b[0m\u001b[37m\u001b[0m \u001b[1m0s\u001b[0m 23ms/step\n"
     ]
    },
    {
     "name": "stdout",
     "output_type": "stream",
     "text": [
      "I: 2 A: 2 Prob: 1.0\n",
      "\u001b[1m1/1\u001b[0m \u001b[32m━━━━━━━━━━━━━━━━━━━━\u001b[0m\u001b[37m\u001b[0m \u001b[1m0s\u001b[0m 26ms/step\n",
      "I: 3 A: 3 Prob: 1.0\n",
      "\u001b[1m1/1\u001b[0m \u001b[32m━━━━━━━━━━━━━━━━━━━━\u001b[0m\u001b[37m\u001b[0m \u001b[1m0s\u001b[0m 22ms/step\n",
      "I: 4 A: 4 Prob: 1.0\n",
      "\u001b[1m1/1\u001b[0m \u001b[32m━━━━━━━━━━━━━━━━━━━━\u001b[0m\u001b[37m\u001b[0m \u001b[1m0s\u001b[0m 21ms/step\n",
      "I: 5 A: 5 Prob: 1.0\n",
      "\u001b[1m1/1\u001b[0m \u001b[32m━━━━━━━━━━━━━━━━━━━━\u001b[0m\u001b[37m\u001b[0m \u001b[1m0s\u001b[0m 21ms/step\n",
      "I: 6 A: 6 Prob: 1.0\n",
      "\u001b[1m1/1\u001b[0m \u001b[32m━━━━━━━━━━━━━━━━━━━━\u001b[0m\u001b[37m\u001b[0m \u001b[1m0s\u001b[0m 22ms/step\n",
      "I: 7 A: 7 Prob: 1.0\n",
      "\u001b[1m1/1\u001b[0m \u001b[32m━━━━━━━━━━━━━━━━━━━━\u001b[0m\u001b[37m\u001b[0m \u001b[1m0s\u001b[0m 21ms/step\n",
      "I: 8 A: 8 Prob: 1.0\n",
      "\u001b[1m1/1\u001b[0m \u001b[32m━━━━━━━━━━━━━━━━━━━━\u001b[0m\u001b[37m\u001b[0m \u001b[1m0s\u001b[0m 22ms/step\n",
      "I: 9 A: 9 Prob: 1.0\n",
      "\u001b[1m1/1\u001b[0m \u001b[32m━━━━━━━━━━━━━━━━━━━━\u001b[0m\u001b[37m\u001b[0m \u001b[1m0s\u001b[0m 23ms/step\n",
      "I: 10 A: 10 Prob: 1.0\n"
     ]
    }
   ],
   "source": [
    "# Intentos son iguales a los aciertos\n",
    "for i in range(10):\n",
    "    user_word_interaction[\"features\"][\"times_reviewed\"] = i+1\n",
    "    user_word_interaction[\"features\"][\"times_correct\"] = i+1\n",
    "    inte = user_word_interaction[\"features\"][\"times_reviewed\"]\n",
    "    ac = user_word_interaction[\"features\"][\"times_correct\"]\n",
    "    prob = predict_recall_probability(model, user_word_interaction[\"features\"])\n",
    "    print(\"I:\",inte,\"A:\",ac,\"Prob:\",round(prob,3))"
   ]
  },
  {
   "cell_type": "code",
   "execution_count": 75,
   "id": "6866baf3",
   "metadata": {},
   "outputs": [
    {
     "name": "stdout",
     "output_type": "stream",
     "text": [
      "\u001b[1m1/1\u001b[0m \u001b[32m━━━━━━━━━━━━━━━━━━━━\u001b[0m\u001b[37m\u001b[0m \u001b[1m0s\u001b[0m 24ms/step\n",
      "I: 1 A: 0 Prob: 0.0\n"
     ]
    },
    {
     "name": "stdout",
     "output_type": "stream",
     "text": [
      "\u001b[1m1/1\u001b[0m \u001b[32m━━━━━━━━━━━━━━━━━━━━\u001b[0m\u001b[37m\u001b[0m \u001b[1m0s\u001b[0m 24ms/step\n",
      "I: 2 A: 1 Prob: 0.002\n",
      "\u001b[1m1/1\u001b[0m \u001b[32m━━━━━━━━━━━━━━━━━━━━\u001b[0m\u001b[37m\u001b[0m \u001b[1m0s\u001b[0m 26ms/step\n",
      "I: 3 A: 2 Prob: 0.601\n",
      "\u001b[1m1/1\u001b[0m \u001b[32m━━━━━━━━━━━━━━━━━━━━\u001b[0m\u001b[37m\u001b[0m \u001b[1m0s\u001b[0m 22ms/step\n",
      "I: 4 A: 3 Prob: 0.677\n",
      "\u001b[1m1/1\u001b[0m \u001b[32m━━━━━━━━━━━━━━━━━━━━\u001b[0m\u001b[37m\u001b[0m \u001b[1m0s\u001b[0m 23ms/step\n",
      "I: 5 A: 4 Prob: 0.709\n",
      "\u001b[1m1/1\u001b[0m \u001b[32m━━━━━━━━━━━━━━━━━━━━\u001b[0m\u001b[37m\u001b[0m \u001b[1m0s\u001b[0m 23ms/step\n",
      "I: 6 A: 5 Prob: 0.734\n",
      "\u001b[1m1/1\u001b[0m \u001b[32m━━━━━━━━━━━━━━━━━━━━\u001b[0m\u001b[37m\u001b[0m \u001b[1m0s\u001b[0m 22ms/step\n",
      "I: 7 A: 6 Prob: 0.758\n",
      "\u001b[1m1/1\u001b[0m \u001b[32m━━━━━━━━━━━━━━━━━━━━\u001b[0m\u001b[37m\u001b[0m \u001b[1m0s\u001b[0m 24ms/step\n",
      "I: 8 A: 7 Prob: 0.78\n",
      "\u001b[1m1/1\u001b[0m \u001b[32m━━━━━━━━━━━━━━━━━━━━\u001b[0m\u001b[37m\u001b[0m \u001b[1m0s\u001b[0m 23ms/step\n",
      "I: 9 A: 8 Prob: 0.801\n",
      "\u001b[1m1/1\u001b[0m \u001b[32m━━━━━━━━━━━━━━━━━━━━\u001b[0m\u001b[37m\u001b[0m \u001b[1m0s\u001b[0m 27ms/step\n",
      "I: 10 A: 9 Prob: 0.82\n"
     ]
    }
   ],
   "source": [
    "# Intentos mayor a los aciertos (1 error)\n",
    "for i in range(10):\n",
    "    user_word_interaction[\"features\"][\"times_reviewed\"] = i+1\n",
    "    user_word_interaction[\"features\"][\"times_correct\"] = i\n",
    "    inte = user_word_interaction[\"features\"][\"times_reviewed\"]\n",
    "    ac = user_word_interaction[\"features\"][\"times_correct\"]\n",
    "    prob = predict_recall_probability(model, user_word_interaction[\"features\"])\n",
    "    print(\"I:\",inte,\"A:\",ac,\"Prob:\",round(prob,3))"
   ]
  },
  {
   "cell_type": "code",
   "execution_count": 76,
   "id": "50fb3f25",
   "metadata": {},
   "outputs": [
    {
     "name": "stdout",
     "output_type": "stream",
     "text": [
      "\u001b[1m1/1\u001b[0m \u001b[32m━━━━━━━━━━━━━━━━━━━━\u001b[0m\u001b[37m\u001b[0m \u001b[1m0s\u001b[0m 27ms/step\n",
      "I: 2 A: 0 Prob: 0.0\n"
     ]
    },
    {
     "name": "stdout",
     "output_type": "stream",
     "text": [
      "\u001b[1m1/1\u001b[0m \u001b[32m━━━━━━━━━━━━━━━━━━━━\u001b[0m\u001b[37m\u001b[0m \u001b[1m0s\u001b[0m 22ms/step\n",
      "I: 3 A: 1 Prob: 0.001\n",
      "\u001b[1m1/1\u001b[0m \u001b[32m━━━━━━━━━━━━━━━━━━━━\u001b[0m\u001b[37m\u001b[0m \u001b[1m0s\u001b[0m 22ms/step\n",
      "I: 4 A: 2 Prob: 0.296\n",
      "\u001b[1m1/1\u001b[0m \u001b[32m━━━━━━━━━━━━━━━━━━━━\u001b[0m\u001b[37m\u001b[0m \u001b[1m0s\u001b[0m 22ms/step\n",
      "I: 5 A: 3 Prob: 0.429\n",
      "\u001b[1m1/1\u001b[0m \u001b[32m━━━━━━━━━━━━━━━━━━━━\u001b[0m\u001b[37m\u001b[0m \u001b[1m0s\u001b[0m 25ms/step\n",
      "I: 6 A: 4 Prob: 0.49\n",
      "\u001b[1m1/1\u001b[0m \u001b[32m━━━━━━━━━━━━━━━━━━━━\u001b[0m\u001b[37m\u001b[0m \u001b[1m0s\u001b[0m 24ms/step\n",
      "I: 7 A: 5 Prob: 0.557\n",
      "\u001b[1m1/1\u001b[0m \u001b[32m━━━━━━━━━━━━━━━━━━━━\u001b[0m\u001b[37m\u001b[0m \u001b[1m0s\u001b[0m 25ms/step\n",
      "I: 8 A: 6 Prob: 0.585\n",
      "\u001b[1m1/1\u001b[0m \u001b[32m━━━━━━━━━━━━━━━━━━━━\u001b[0m\u001b[37m\u001b[0m \u001b[1m0s\u001b[0m 25ms/step\n",
      "I: 9 A: 7 Prob: 0.613\n",
      "\u001b[1m1/1\u001b[0m \u001b[32m━━━━━━━━━━━━━━━━━━━━\u001b[0m\u001b[37m\u001b[0m \u001b[1m0s\u001b[0m 25ms/step\n",
      "I: 10 A: 8 Prob: 0.64\n",
      "\u001b[1m1/1\u001b[0m \u001b[32m━━━━━━━━━━━━━━━━━━━━\u001b[0m\u001b[37m\u001b[0m \u001b[1m0s\u001b[0m 23ms/step\n",
      "I: 11 A: 9 Prob: 0.666\n"
     ]
    }
   ],
   "source": [
    "# Intentos mayor a los aciertos (2 error)\n",
    "for i in range(10):\n",
    "    user_word_interaction[\"features\"][\"times_reviewed\"] = i+2\n",
    "    user_word_interaction[\"features\"][\"times_correct\"] = i\n",
    "    inte = user_word_interaction[\"features\"][\"times_reviewed\"]\n",
    "    ac = user_word_interaction[\"features\"][\"times_correct\"]\n",
    "    prob = predict_recall_probability(model, user_word_interaction[\"features\"])\n",
    "    print(\"I:\",inte,\"A:\",ac,\"Prob:\",round(prob,3))"
   ]
  },
  {
   "cell_type": "code",
   "execution_count": 77,
   "id": "1972fc2d",
   "metadata": {},
   "outputs": [
    {
     "name": "stdout",
     "output_type": "stream",
     "text": [
      "\u001b[1m1/1\u001b[0m \u001b[32m━━━━━━━━━━━━━━━━━━━━\u001b[0m\u001b[37m\u001b[0m \u001b[1m0s\u001b[0m 24ms/step\n",
      "I: 3 A: 0 Prob: 0.0\n"
     ]
    },
    {
     "name": "stdout",
     "output_type": "stream",
     "text": [
      "\u001b[1m1/1\u001b[0m \u001b[32m━━━━━━━━━━━━━━━━━━━━\u001b[0m\u001b[37m\u001b[0m \u001b[1m0s\u001b[0m 24ms/step\n",
      "I: 4 A: 1 Prob: 0.0\n",
      "\u001b[1m1/1\u001b[0m \u001b[32m━━━━━━━━━━━━━━━━━━━━\u001b[0m\u001b[37m\u001b[0m \u001b[1m0s\u001b[0m 28ms/step\n",
      "I: 5 A: 2 Prob: 0.206\n",
      "\u001b[1m1/1\u001b[0m \u001b[32m━━━━━━━━━━━━━━━━━━━━\u001b[0m\u001b[37m\u001b[0m \u001b[1m0s\u001b[0m 24ms/step\n",
      "I: 6 A: 3 Prob: 0.375\n",
      "\u001b[1m1/1\u001b[0m \u001b[32m━━━━━━━━━━━━━━━━━━━━\u001b[0m\u001b[37m\u001b[0m \u001b[1m0s\u001b[0m 23ms/step\n",
      "I: 7 A: 4 Prob: 0.38\n",
      "\u001b[1m1/1\u001b[0m \u001b[32m━━━━━━━━━━━━━━━━━━━━\u001b[0m\u001b[37m\u001b[0m \u001b[1m0s\u001b[0m 23ms/step\n",
      "I: 8 A: 5 Prob: 0.414\n",
      "\u001b[1m1/1\u001b[0m \u001b[32m━━━━━━━━━━━━━━━━━━━━\u001b[0m\u001b[37m\u001b[0m \u001b[1m0s\u001b[0m 25ms/step\n",
      "I: 9 A: 6 Prob: 0.461\n",
      "\u001b[1m1/1\u001b[0m \u001b[32m━━━━━━━━━━━━━━━━━━━━\u001b[0m\u001b[37m\u001b[0m \u001b[1m0s\u001b[0m 24ms/step\n",
      "I: 10 A: 7 Prob: 0.51\n",
      "\u001b[1m1/1\u001b[0m \u001b[32m━━━━━━━━━━━━━━━━━━━━\u001b[0m\u001b[37m\u001b[0m \u001b[1m0s\u001b[0m 22ms/step\n",
      "I: 11 A: 8 Prob: 0.539\n",
      "\u001b[1m1/1\u001b[0m \u001b[32m━━━━━━━━━━━━━━━━━━━━\u001b[0m\u001b[37m\u001b[0m \u001b[1m0s\u001b[0m 26ms/step\n",
      "I: 12 A: 9 Prob: 0.567\n"
     ]
    }
   ],
   "source": [
    "# Intentos mayor a los aciertos (3 error)\n",
    "for i in range(10):\n",
    "    user_word_interaction[\"features\"][\"times_reviewed\"] = i+3\n",
    "    user_word_interaction[\"features\"][\"times_correct\"] = i\n",
    "    inte = user_word_interaction[\"features\"][\"times_reviewed\"]\n",
    "    ac = user_word_interaction[\"features\"][\"times_correct\"]\n",
    "    prob = predict_recall_probability(model, user_word_interaction[\"features\"])\n",
    "    print(\"I:\",inte,\"A:\",ac,\"Prob:\",round(prob,3))"
   ]
  },
  {
   "cell_type": "code",
   "execution_count": 78,
   "id": "e9b8706b",
   "metadata": {},
   "outputs": [
    {
     "name": "stdout",
     "output_type": "stream",
     "text": [
      "\u001b[1m1/1\u001b[0m \u001b[32m━━━━━━━━━━━━━━━━━━━━\u001b[0m\u001b[37m\u001b[0m \u001b[1m0s\u001b[0m 23ms/step\n",
      "I: 4 A: 0 Prob: 0.0\n"
     ]
    },
    {
     "name": "stdout",
     "output_type": "stream",
     "text": [
      "\u001b[1m1/1\u001b[0m \u001b[32m━━━━━━━━━━━━━━━━━━━━\u001b[0m\u001b[37m\u001b[0m \u001b[1m0s\u001b[0m 25ms/step\n",
      "I: 5 A: 1 Prob: 0.0\n",
      "\u001b[1m1/1\u001b[0m \u001b[32m━━━━━━━━━━━━━━━━━━━━\u001b[0m\u001b[37m\u001b[0m \u001b[1m0s\u001b[0m 23ms/step\n",
      "I: 6 A: 2 Prob: 0.013\n",
      "\u001b[1m1/1\u001b[0m \u001b[32m━━━━━━━━━━━━━━━━━━━━\u001b[0m\u001b[37m\u001b[0m \u001b[1m0s\u001b[0m 22ms/step\n",
      "I: 7 A: 3 Prob: 0.269\n",
      "\u001b[1m1/1\u001b[0m \u001b[32m━━━━━━━━━━━━━━━━━━━━\u001b[0m\u001b[37m\u001b[0m \u001b[1m0s\u001b[0m 21ms/step\n",
      "I: 8 A: 4 Prob: 0.272\n",
      "\u001b[1m1/1\u001b[0m \u001b[32m━━━━━━━━━━━━━━━━━━━━\u001b[0m\u001b[37m\u001b[0m \u001b[1m0s\u001b[0m 21ms/step\n",
      "I: 9 A: 5 Prob: 0.275\n",
      "\u001b[1m1/1\u001b[0m \u001b[32m━━━━━━━━━━━━━━━━━━━━\u001b[0m\u001b[37m\u001b[0m \u001b[1m0s\u001b[0m 24ms/step\n",
      "I: 10 A: 6 Prob: 0.306\n",
      "\u001b[1m1/1\u001b[0m \u001b[32m━━━━━━━━━━━━━━━━━━━━\u001b[0m\u001b[37m\u001b[0m \u001b[1m0s\u001b[0m 24ms/step\n",
      "I: 11 A: 7 Prob: 0.34\n",
      "\u001b[1m1/1\u001b[0m \u001b[32m━━━━━━━━━━━━━━━━━━━━\u001b[0m\u001b[37m\u001b[0m \u001b[1m0s\u001b[0m 22ms/step\n",
      "I: 12 A: 8 Prob: 0.375\n",
      "\u001b[1m1/1\u001b[0m \u001b[32m━━━━━━━━━━━━━━━━━━━━\u001b[0m\u001b[37m\u001b[0m \u001b[1m0s\u001b[0m 22ms/step\n",
      "I: 13 A: 9 Prob: 0.411\n",
      "\u001b[1m1/1\u001b[0m \u001b[32m━━━━━━━━━━━━━━━━━━━━\u001b[0m\u001b[37m\u001b[0m \u001b[1m0s\u001b[0m 26ms/step\n",
      "I: 14 A: 10 Prob: 0.448\n",
      "\u001b[1m1/1\u001b[0m \u001b[32m━━━━━━━━━━━━━━━━━━━━\u001b[0m\u001b[37m\u001b[0m \u001b[1m0s\u001b[0m 22ms/step\n",
      "I: 15 A: 11 Prob: 0.486\n",
      "\u001b[1m1/1\u001b[0m \u001b[32m━━━━━━━━━━━━━━━━━━━━\u001b[0m\u001b[37m\u001b[0m \u001b[1m0s\u001b[0m 22ms/step\n",
      "I: 16 A: 12 Prob: 0.524\n",
      "\u001b[1m1/1\u001b[0m \u001b[32m━━━━━━━━━━━━━━━━━━━━\u001b[0m\u001b[37m\u001b[0m \u001b[1m0s\u001b[0m 25ms/step\n",
      "I: 17 A: 13 Prob: 0.562\n",
      "\u001b[1m1/1\u001b[0m \u001b[32m━━━━━━━━━━━━━━━━━━━━\u001b[0m\u001b[37m\u001b[0m \u001b[1m0s\u001b[0m 22ms/step\n",
      "I: 18 A: 14 Prob: 0.599\n",
      "\u001b[1m1/1\u001b[0m \u001b[32m━━━━━━━━━━━━━━━━━━━━\u001b[0m\u001b[37m\u001b[0m \u001b[1m0s\u001b[0m 24ms/step\n",
      "I: 19 A: 15 Prob: 0.635\n",
      "\u001b[1m1/1\u001b[0m \u001b[32m━━━━━━━━━━━━━━━━━━━━\u001b[0m\u001b[37m\u001b[0m \u001b[1m0s\u001b[0m 23ms/step\n",
      "I: 20 A: 16 Prob: 0.67\n",
      "\u001b[1m1/1\u001b[0m \u001b[32m━━━━━━━━━━━━━━━━━━━━\u001b[0m\u001b[37m\u001b[0m \u001b[1m0s\u001b[0m 31ms/step\n",
      "I: 21 A: 17 Prob: 0.703\n",
      "\u001b[1m1/1\u001b[0m \u001b[32m━━━━━━━━━━━━━━━━━━━━\u001b[0m\u001b[37m\u001b[0m \u001b[1m0s\u001b[0m 25ms/step\n",
      "I: 22 A: 18 Prob: 0.74\n",
      "\u001b[1m1/1\u001b[0m \u001b[32m━━━━━━━━━━━━━━━━━━━━\u001b[0m\u001b[37m\u001b[0m \u001b[1m0s\u001b[0m 25ms/step\n",
      "I: 23 A: 19 Prob: 0.777\n"
     ]
    }
   ],
   "source": [
    "# Intentos mayor a los aciertos (4 error)\n",
    "for i in range(20):\n",
    "    user_word_interaction[\"features\"][\"times_reviewed\"] = i+4\n",
    "    user_word_interaction[\"features\"][\"times_correct\"] = i\n",
    "    user_word_interaction[\"features\"][\"delta\"] = 24\n",
    "    inte = user_word_interaction[\"features\"][\"times_reviewed\"]\n",
    "    ac = user_word_interaction[\"features\"][\"times_correct\"]\n",
    "    prob = predict_recall_probability(model, user_word_interaction[\"features\"])\n",
    "    print(\"I:\",inte,\"A:\",ac,\"Prob:\",round(prob,3))"
   ]
  },
  {
   "cell_type": "markdown",
   "id": "1fdddcec",
   "metadata": {},
   "source": [
    "# Variación de errores con distinto patron"
   ]
  },
  {
   "cell_type": "code",
   "execution_count": 79,
   "id": "68bc26d9",
   "metadata": {},
   "outputs": [
    {
     "name": "stdout",
     "output_type": "stream",
     "text": [
      "\u001b[1m1/1\u001b[0m \u001b[32m━━━━━━━━━━━━━━━━━━━━\u001b[0m\u001b[37m\u001b[0m \u001b[1m0s\u001b[0m 25ms/step\n",
      "I: 1 A: 1 Prob: 1.0\n"
     ]
    },
    {
     "name": "stdout",
     "output_type": "stream",
     "text": [
      "\u001b[1m1/1\u001b[0m \u001b[32m━━━━━━━━━━━━━━━━━━━━\u001b[0m\u001b[37m\u001b[0m \u001b[1m0s\u001b[0m 22ms/step\n",
      "I: 2 A: 1 Prob: 0.001\n",
      "\u001b[1m1/1\u001b[0m \u001b[32m━━━━━━━━━━━━━━━━━━━━\u001b[0m\u001b[37m\u001b[0m \u001b[1m0s\u001b[0m 24ms/step\n",
      "I: 3 A: 2 Prob: 0.572\n",
      "\u001b[1m1/1\u001b[0m \u001b[32m━━━━━━━━━━━━━━━━━━━━\u001b[0m\u001b[37m\u001b[0m \u001b[1m0s\u001b[0m 25ms/step\n",
      "I: 4 A: 3 Prob: 0.612\n",
      "\u001b[1m1/1\u001b[0m \u001b[32m━━━━━━━━━━━━━━━━━━━━\u001b[0m\u001b[37m\u001b[0m \u001b[1m0s\u001b[0m 23ms/step\n",
      "I: 5 A: 4 Prob: 0.651\n",
      "\u001b[1m1/1\u001b[0m \u001b[32m━━━━━━━━━━━━━━━━━━━━\u001b[0m\u001b[37m\u001b[0m \u001b[1m0s\u001b[0m 24ms/step\n",
      "I: 6 A: 5 Prob: 0.687\n",
      "\u001b[1m1/1\u001b[0m \u001b[32m━━━━━━━━━━━━━━━━━━━━\u001b[0m\u001b[37m\u001b[0m \u001b[1m0s\u001b[0m 22ms/step\n",
      "I: 7 A: 5 Prob: 0.465\n",
      "\u001b[1m1/1\u001b[0m \u001b[32m━━━━━━━━━━━━━━━━━━━━\u001b[0m\u001b[37m\u001b[0m \u001b[1m0s\u001b[0m 24ms/step\n",
      "I: 8 A: 6 Prob: 0.504\n",
      "\u001b[1m1/1\u001b[0m \u001b[32m━━━━━━━━━━━━━━━━━━━━\u001b[0m\u001b[37m\u001b[0m \u001b[1m0s\u001b[0m 23ms/step\n",
      "I: 9 A: 7 Prob: 0.542\n",
      "\u001b[1m1/1\u001b[0m \u001b[32m━━━━━━━━━━━━━━━━━━━━\u001b[0m\u001b[37m\u001b[0m \u001b[1m0s\u001b[0m 24ms/step\n",
      "I: 10 A: 8 Prob: 0.579\n",
      "\u001b[1m1/1\u001b[0m \u001b[32m━━━━━━━━━━━━━━━━━━━━\u001b[0m\u001b[37m\u001b[0m \u001b[1m0s\u001b[0m 24ms/step\n",
      "I: 11 A: 9 Prob: 0.616\n",
      "\u001b[1m1/1\u001b[0m \u001b[32m━━━━━━━━━━━━━━━━━━━━\u001b[0m\u001b[37m\u001b[0m \u001b[1m0s\u001b[0m 22ms/step\n",
      "I: 12 A: 10 Prob: 0.652\n"
     ]
    }
   ],
   "source": [
    "user_word_interaction[\"features\"][\"times_reviewed\"] = 1\n",
    "user_word_interaction[\"features\"][\"times_correct\"] = 1\n",
    "inte = user_word_interaction[\"features\"][\"times_reviewed\"]\n",
    "ac = user_word_interaction[\"features\"][\"times_correct\"]\n",
    "prob = predict_recall_probability(model, user_word_interaction[\"features\"])\n",
    "print(\"I:\",inte,\"A:\",ac,\"Prob:\",round(prob,3))\n",
    "for i in range(5):\n",
    "    user_word_interaction[\"features\"][\"times_reviewed\"] = i+2\n",
    "    user_word_interaction[\"features\"][\"times_correct\"] = i+1\n",
    "    inte = user_word_interaction[\"features\"][\"times_reviewed\"]\n",
    "    ac = user_word_interaction[\"features\"][\"times_correct\"]\n",
    "    prob = predict_recall_probability(model, user_word_interaction[\"features\"])\n",
    "    print(\"I:\",inte,\"A:\",ac,\"Prob:\",round(prob,3))\n",
    "for i in range(6):\n",
    "    user_word_interaction[\"features\"][\"times_reviewed\"] = i+7\n",
    "    user_word_interaction[\"features\"][\"times_correct\"] = i+5\n",
    "    inte = user_word_interaction[\"features\"][\"times_reviewed\"]\n",
    "    ac = user_word_interaction[\"features\"][\"times_correct\"]\n",
    "    prob = predict_recall_probability(model, user_word_interaction[\"features\"])\n",
    "    print(\"I:\",inte,\"A:\",ac,\"Prob:\",round(prob,3))"
   ]
  },
  {
   "cell_type": "markdown",
   "id": "5181f1a2",
   "metadata": {},
   "source": [
    "# Variación tiempo"
   ]
  },
  {
   "cell_type": "code",
   "execution_count": 80,
   "id": "5773ed34",
   "metadata": {},
   "outputs": [
    {
     "name": "stdout",
     "output_type": "stream",
     "text": [
      "\u001b[1m1/1\u001b[0m \u001b[32m━━━━━━━━━━━━━━━━━━━━\u001b[0m\u001b[37m\u001b[0m \u001b[1m0s\u001b[0m 24ms/step\n",
      "Dia: 1.0 0.612\n"
     ]
    },
    {
     "name": "stdout",
     "output_type": "stream",
     "text": [
      "\u001b[1m1/1\u001b[0m \u001b[32m━━━━━━━━━━━━━━━━━━━━\u001b[0m\u001b[37m\u001b[0m \u001b[1m0s\u001b[0m 55ms/step\n",
      "Dia: 2.0 0.578\n",
      "\u001b[1m1/1\u001b[0m \u001b[32m━━━━━━━━━━━━━━━━━━━━\u001b[0m\u001b[37m\u001b[0m \u001b[1m0s\u001b[0m 23ms/step\n",
      "Dia: 3.0 0.542\n",
      "\u001b[1m1/1\u001b[0m \u001b[32m━━━━━━━━━━━━━━━━━━━━\u001b[0m\u001b[37m\u001b[0m \u001b[1m0s\u001b[0m 26ms/step\n",
      "Dia: 4.0 0.535\n",
      "\u001b[1m1/1\u001b[0m \u001b[32m━━━━━━━━━━━━━━━━━━━━\u001b[0m\u001b[37m\u001b[0m \u001b[1m0s\u001b[0m 24ms/step\n",
      "Dia: 5.0 0.53\n",
      "\u001b[1m1/1\u001b[0m \u001b[32m━━━━━━━━━━━━━━━━━━━━\u001b[0m\u001b[37m\u001b[0m \u001b[1m0s\u001b[0m 23ms/step\n",
      "Dia: 6.0 0.526\n",
      "\u001b[1m1/1\u001b[0m \u001b[32m━━━━━━━━━━━━━━━━━━━━\u001b[0m\u001b[37m\u001b[0m \u001b[1m0s\u001b[0m 22ms/step\n",
      "Dia: 7.0 0.522\n",
      "\u001b[1m1/1\u001b[0m \u001b[32m━━━━━━━━━━━━━━━━━━━━\u001b[0m\u001b[37m\u001b[0m \u001b[1m0s\u001b[0m 24ms/step\n",
      "Dia: 8.0 0.517\n",
      "\u001b[1m1/1\u001b[0m \u001b[32m━━━━━━━━━━━━━━━━━━━━\u001b[0m\u001b[37m\u001b[0m \u001b[1m0s\u001b[0m 24ms/step\n",
      "Dia: 9.0 0.513\n",
      "\u001b[1m1/1\u001b[0m \u001b[32m━━━━━━━━━━━━━━━━━━━━\u001b[0m\u001b[37m\u001b[0m \u001b[1m0s\u001b[0m 24ms/step\n",
      "Dia: 10.0 0.508\n",
      "\u001b[1m1/1\u001b[0m \u001b[32m━━━━━━━━━━━━━━━━━━━━\u001b[0m\u001b[37m\u001b[0m \u001b[1m0s\u001b[0m 23ms/step\n",
      "Dia: 11.0 0.504\n",
      "\u001b[1m1/1\u001b[0m \u001b[32m━━━━━━━━━━━━━━━━━━━━\u001b[0m\u001b[37m\u001b[0m \u001b[1m0s\u001b[0m 22ms/step\n",
      "Dia: 12.0 0.5\n",
      "\u001b[1m1/1\u001b[0m \u001b[32m━━━━━━━━━━━━━━━━━━━━\u001b[0m\u001b[37m\u001b[0m \u001b[1m0s\u001b[0m 23ms/step\n",
      "Dia: 13.0 0.495\n",
      "\u001b[1m1/1\u001b[0m \u001b[32m━━━━━━━━━━━━━━━━━━━━\u001b[0m\u001b[37m\u001b[0m \u001b[1m0s\u001b[0m 23ms/step\n",
      "Dia: 14.0 0.491\n"
     ]
    }
   ],
   "source": [
    "for i in range(14):\n",
    "    user_word_interaction[\"features\"][\"times_reviewed\"] = 4\n",
    "    user_word_interaction[\"features\"][\"times_correct\"] = 3\n",
    "    user_word_interaction[\"features\"][\"delta\"] = (i+1)*24\n",
    "    inte = user_word_interaction[\"features\"][\"times_reviewed\"]\n",
    "    ac = user_word_interaction[\"features\"][\"times_correct\"]\n",
    "    d = user_word_interaction[\"features\"][\"delta\"]\n",
    "    prob = predict_recall_probability(model, user_word_interaction[\"features\"])\n",
    "    print(\"Dia:\",d/24,round(prob,3))"
   ]
  }
 ],
 "metadata": {
  "kernelspec": {
   "display_name": "Python 3",
   "language": "python",
   "name": "python3"
  },
  "language_info": {
   "codemirror_mode": {
    "name": "ipython",
    "version": 3
   },
   "file_extension": ".py",
   "mimetype": "text/x-python",
   "name": "python",
   "nbconvert_exporter": "python",
   "pygments_lexer": "ipython3",
   "version": "3.12.1"
  }
 },
 "nbformat": 4,
 "nbformat_minor": 5
}
